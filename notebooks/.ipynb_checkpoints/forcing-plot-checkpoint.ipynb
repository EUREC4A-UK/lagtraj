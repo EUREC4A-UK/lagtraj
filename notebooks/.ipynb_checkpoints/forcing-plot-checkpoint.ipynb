{
 "cells": [
  {
   "cell_type": "code",
   "execution_count": null,
   "metadata": {},
   "outputs": [],
   "source": [
    "import xarray as xr\n",
    "import cartopy.crs as ccrs\n",
    "from matplotlib.gridspec import GridSpec\n",
    "import matplotlib.pyplot as plt\n",
    "import numpy as np\n",
    "\n",
    "import lagtraj.domain.load\n",
    "import lagtraj.trajectory.plot\n",
    "\n",
    "%matplotlib inline"
   ]
  },
  {
   "cell_type": "code",
   "execution_count": null,
   "metadata": {
    "scrolled": false
   },
   "outputs": [],
   "source": [
    "ds_forcing = xr.open_dataset('../data/forcings/eurec4a_20191209_12_eul.nc')\n",
    "ds_domain = lagtraj.domain.load.load_data(root_data_path=\"../data\", name=ds_forcing.domain_name)"
   ]
  },
  {
   "cell_type": "code",
   "execution_count": null,
   "metadata": {},
   "outputs": [],
   "source": [
    "forcing_vars = [\"dqdt_adv\", \"dtdt_adv\"]\n",
    "domain_var = 'q'\n",
    "figwidth = 12\n",
    "subplot_height = 3\n",
    "tn = 5\n",
    "overview_window_width = 4 # [deg]\n",
    "\n",
    "N_vars = len(forcing_vars)\n",
    "figsize = (figwidth, 4+subplot_height*N_vars)\n",
    "fig = plt.figure(figsize=figsize)\n",
    "gs = GridSpec(2+N_vars, 2)\n",
    "ds_forc_tn = ds_forcing.isel(time=tn)\n",
    "lat0, lon0 = ds_forc_tn.lat, ds_forc_tn.lon\n",
    "domain_window = dict(\n",
    "    lat=slice(lat0-overview_window_width/2, lat0+overview_window_width/2),\n",
    "    lon=slice(lon0-overview_window_width/2, lon0+overview_window_width/2),\n",
    "    time=ds_forc_tn.time\n",
    ")\n",
    "da_domain = ds_domain[domain_var].sel(**domain_window).sum(dim='level')['q']\n",
    "\n",
    "#proj_overview = ccrs.Orthographic(central_latitude=lat0, central_longitude=lon0)\n",
    "proj_overview = ccrs.PlateCarree()\n",
    "\n",
    "def add_overview_axes(gs_):\n",
    "    ax = fig.add_subplot(gs_, projection=proj_overview)\n",
    "    ax.coastlines(resolution='10m')\n",
    "    gl = ax.gridlines(draw_labels=True)\n",
    "    gl.xlabels_top = False\n",
    "    return ax\n",
    "\n",
    "ax_domain = add_overview_axes(gs[:2,0])\n",
    "da_domain.plot(ax=ax_domain)\n",
    "ax_satellite = add_overview_axes(gs[0:2,1])\n",
    "da_domain.plot(ax=ax_satellite)\n",
    "\n",
    "lagtraj.trajectory.plot.main()\n",
    "\n",
    "\n",
    "ax = None\n",
    "for n, v in enumerate(forcing_vars):\n",
    "    ax = fig.add_subplot(gs[n+2,:], sharex=ax)\n",
    "    ds_forcing[v].plot(ax=ax, y=\"level\")\n",
    "    # .item() doesn't return a np.datetime64 object sadly, so we have to make our own...\n",
    "    t0 = np.datetime64(ds_forc_tn[v].time.item(), 'ns')\n",
    "    ax.axvline(x=t0, color='black', linestyle='--', alpha=0.5)\n",
    "    \n",
    "fig.tight_layout()"
   ]
  },
  {
   "cell_type": "code",
   "execution_count": null,
   "metadata": {},
   "outputs": [],
   "source": []
  }
 ],
 "metadata": {
  "kernelspec": {
   "display_name": "Python [default]",
   "language": "python",
   "name": "python3"
  },
  "language_info": {
   "codemirror_mode": {
    "name": "ipython",
    "version": 3
   },
   "file_extension": ".py",
   "mimetype": "text/x-python",
   "name": "python",
   "nbconvert_exporter": "python",
   "pygments_lexer": "ipython3",
   "version": "3.6.5"
  }
 },
 "nbformat": 4,
 "nbformat_minor": 4
}
